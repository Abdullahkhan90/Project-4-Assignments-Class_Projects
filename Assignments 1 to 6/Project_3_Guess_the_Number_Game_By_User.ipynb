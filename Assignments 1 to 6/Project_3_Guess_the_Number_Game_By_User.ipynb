{
  "nbformat": 4,
  "nbformat_minor": 0,
  "metadata": {
    "colab": {
      "provenance": [],
      "authorship_tag": "ABX9TyOwAbgH2BcKoNRnQylXvJj5",
      "include_colab_link": true
    },
    "kernelspec": {
      "name": "python3",
      "display_name": "Python 3"
    },
    "language_info": {
      "name": "python"
    }
  },
  "cells": [
    {
      "cell_type": "markdown",
      "metadata": {
        "id": "view-in-github",
        "colab_type": "text"
      },
      "source": [
        "<a href=\"https://colab.research.google.com/github/Abdullahkhan90/Project-3_Guess-the-Number-Game-Python-Project-User/blob/main/Project_3_Guess_the_Number_Game_By_User.ipynb\" target=\"_parent\"><img src=\"https://colab.research.google.com/assets/colab-badge.svg\" alt=\"Open In Colab\"/></a>"
      ]
    },
    {
      "cell_type": "markdown",
      "source": [
        "# **Project 3: Guess the Number Game Python Project (user)**"
      ],
      "metadata": {
        "id": "fQetnMups2oy"
      }
    },
    {
      "cell_type": "code",
      "source": [
        "import random\n",
        "\n",
        "print(\"Guess The Number between 1 and 50!\")\n",
        "\n",
        "number = random.randint(1, 50)\n",
        "\n",
        "while True:\n",
        "    guess = int(input(\"Enter The Guess Number:\"))\n",
        "\n",
        "    if guess < number:\n",
        "        print(\"Too Low Number!\")\n",
        "    elif guess > number:\n",
        "        print(\"Too High Number!\")\n",
        "    else:\n",
        "        print(\"Congratulations! You Guess The Right Number!\")\n",
        "        break\n"
      ],
      "metadata": {
        "colab": {
          "base_uri": "https://localhost:8080/"
        },
        "id": "BCzT0ewftCy-",
        "outputId": "936fcc7c-b025-4048-b812-e0fd52c9553e"
      },
      "execution_count": 2,
      "outputs": [
        {
          "output_type": "stream",
          "name": "stdout",
          "text": [
            "Guess The Number between 1 and 50!\n",
            "Enter The Guess Number:25\n",
            "Too Low Number!\n",
            "Enter The Guess Number:30\n",
            "Too Low Number!\n",
            "Enter The Guess Number:40\n",
            "Too Low Number!\n",
            "Enter The Guess Number:45\n",
            "Too Low Number!\n",
            "Enter The Guess Number:48\n",
            "Too High Number!\n",
            "Enter The Guess Number:47\n",
            "Congratulations! You Guess The Right Number!\n"
          ]
        }
      ]
    }
  ]
}