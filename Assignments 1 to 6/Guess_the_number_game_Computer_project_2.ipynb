{
  "nbformat": 4,
  "nbformat_minor": 0,
  "metadata": {
    "colab": {
      "provenance": [],
      "authorship_tag": "ABX9TyPjiEqxFtGTUhSqWFUFIUi6",
      "include_colab_link": true
    },
    "kernelspec": {
      "name": "python3",
      "display_name": "Python 3"
    },
    "language_info": {
      "name": "python"
    }
  },
  "cells": [
    {
      "cell_type": "markdown",
      "metadata": {
        "id": "view-in-github",
        "colab_type": "text"
      },
      "source": [
        "<a href=\"https://colab.research.google.com/github/Abdullahkhan90/Project-2-Guess-the-Number-Game-Python-Project-computer-/blob/main/Guess_the_number_game_Computer_project_2.ipynb\" target=\"_parent\"><img src=\"https://colab.research.google.com/assets/colab-badge.svg\" alt=\"Open In Colab\"/></a>"
      ]
    },
    {
      "cell_type": "markdown",
      "source": [
        "# **Project 2 : Guess The Number Game By computer.**"
      ],
      "metadata": {
        "id": "_6kweLykMsMo"
      }
    },
    {
      "cell_type": "code",
      "source": [
        "import random\n",
        "\n",
        "def guess_the_number():\n",
        "    \"\"\"Project 2: Guess The Number Game By Computer.\"\"\"\n",
        "    number = random.randint(1, 100)\n",
        "    guesses_left = 5\n",
        "\n",
        "    print(\"Welcome to my number guessing game\")\n",
        "    print(\"I am thinking of a number between 1 to 100\")\n",
        "\n",
        "    while guesses_left > 0:\n",
        "        print(f\"\\nYou have {guesses_left} guesses left.\")\n",
        "        try:\n",
        "            guess = int(input(\"Take a guess of another number: \"))\n",
        "        except ValueError:\n",
        "            print(\"Invalid input: Please enter a number.\")\n",
        "            continue\n",
        "\n",
        "        if guess < number:\n",
        "            print(\"The number is too low. Please try another number!\")\n",
        "        elif guess > number:\n",
        "            print(\"The number is too high. Please try another number!\")\n",
        "        else:\n",
        "            print(f\"Congratulations! You got the correct number in {5 - guesses_left + 1} tries.\")\n",
        "            return\n",
        "\n",
        "        guesses_left -= 1\n",
        "\n",
        "    print(f\"\\nYou’ve run out of guesses. The number was {number}.\")\n",
        "\n",
        "guess_the_number()\n"
      ],
      "metadata": {
        "colab": {
          "base_uri": "https://localhost:8080/"
        },
        "id": "9QnrFsdYNtRx",
        "outputId": "9a108928-fe99-4df8-f5a5-31db7db02e33"
      },
      "execution_count": 6,
      "outputs": [
        {
          "output_type": "stream",
          "name": "stdout",
          "text": [
            "Welcome to my number guessing game\n",
            "I am thinking of a number between 1 to 100\n",
            "\n",
            "You have 5 guesses left.\n",
            "Take a guess of another number: 55\n",
            "The number is too high. Please try another number!\n",
            "\n",
            "You have 4 guesses left.\n",
            "Take a guess of another number: 35\n",
            "The number is too low. Please try another number!\n",
            "\n",
            "You have 3 guesses left.\n",
            "Take a guess of another number: 40\n",
            "The number is too high. Please try another number!\n",
            "\n",
            "You have 2 guesses left.\n",
            "Take a guess of another number: 38\n",
            "Congratulations! You got the correct number in 4 tries.\n"
          ]
        }
      ]
    }
  ]
}