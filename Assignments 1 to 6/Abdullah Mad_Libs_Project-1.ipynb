{
  "nbformat": 4,
  "nbformat_minor": 0,
  "metadata": {
    "colab": {
      "provenance": [],
      "authorship_tag": "ABX9TyOzOBLPF5eJeMRyd+31QjXF",
      "include_colab_link": true
    },
    "kernelspec": {
      "name": "python3",
      "display_name": "Python 3"
    },
    "language_info": {
      "name": "python"
    }
  },
  "cells": [
    {
      "cell_type": "markdown",
      "metadata": {
        "id": "view-in-github",
        "colab_type": "text"
      },
      "source": [
        "<a href=\"https://colab.research.google.com/github/Abdullahkhan90/Project-1-Mad-libs-Python-Project/blob/main/Abdullah%20Mad_Libs_Project-1.ipynb\" target=\"_parent\"><img src=\"https://colab.research.google.com/assets/colab-badge.svg\" alt=\"Open In Colab\"/></a>"
      ]
    },
    {
      "cell_type": "markdown",
      "source": [
        "# **Created Mad Libs Python Project By Abdullah:**"
      ],
      "metadata": {
        "id": "ftUonlv4HpjK"
      }
    },
    {
      "cell_type": "code",
      "source": [
        "#Taking the input from the user\n",
        "name = input(\"Enter the name of a boy: \")\n",
        "programming_language = input(\"Enter a programming language (For Example: Javascrip , Python , Typescript , React js): \")\n",
        "mentor = input(\"Enter the name of a mentor: \")\n",
        "location = input(\"Enter the location e.g: governor house\")\n",
        "\n",
        "#Define a Story\n",
        "print(\"\\n Here is a small story based on mad libs game!\")\n",
        "print(f\"Once upon a time, there was a young boy named {name}.\" )\n",
        "print(f\"{name} was always full of curiosity and had an insatiable desire to learn new things\")\n",
        "print(f\"One fine day, He made a bold decision: he would learn the {programming_language} language. He headed to the {location}, eager to dive into this new adventure.\")\n",
        "print(f\"By pure chance, {name} met a wise and experienced mentor, {mentor}, who was not just familiar with the {programming_language} but was an expert in it.\")\n",
        "print(f\"And with that, his adventure was just beginning.....!\")"
      ],
      "metadata": {
        "colab": {
          "base_uri": "https://localhost:8080/"
        },
        "id": "bfjZl5eAHzOh",
        "outputId": "0070b790-e101-4b7a-957f-c6bb5269e56b"
      },
      "execution_count": 4,
      "outputs": [
        {
          "output_type": "stream",
          "name": "stdout",
          "text": [
            "Enter the name of a boy: Ahmed\n",
            "Enter a programming language (For Example: Javascrip , Python , Typescript , React js): React js\n",
            "Enter the name of a mentor: Hafiz Abdullah\n",
            "Enter the location e.g: governor houseGIAIC\n",
            "\n",
            " Here is a small story based on mad libs game!\n",
            "Once upon a time, there was a young boy named Ahmed.\n",
            "Ahmed was always full of curiosity and had an insatiable desire to learn new things\n",
            "One fine day, He made a bold decision: he would learn the React js language. He headed to the GIAIC, eager to dive into this new adventure.\n",
            "By pure chance, Ahmed met a wise and experienced mentor, Hafiz Abdullah, who was not just familiar with the React js but was an expert in it.\n",
            "And with that, his adventure was just beginning.....!\n"
          ]
        }
      ]
    }
  ]
}